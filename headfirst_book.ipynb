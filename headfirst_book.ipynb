{
 "cells": [
  {
   "cell_type": "code",
   "execution_count": 2,
   "id": "cf840568",
   "metadata": {},
   "outputs": [
    {
     "name": "stdout",
     "output_type": "stream",
     "text": [
      "10\n",
      "not an odd minute\n"
     ]
    }
   ],
   "source": [
    "from datetime import datetime\n",
    "odds = [1,3,5,7,9,11,13,15,17,19]\n",
    "right_this_minute = datetime.today().minute\n",
    "print(right_this_minute)\n",
    "if right_this_minute in odds:\n",
    "    print(\"this minute seems a little odd.\")\n",
    "else:\n",
    "    print(\"not an odd minute\")"
   ]
  },
  {
   "cell_type": "code",
   "execution_count": 3,
   "id": "55bd4755",
   "metadata": {},
   "outputs": [
    {
     "data": {
      "text/plain": [
       "'linux'"
      ]
     },
     "execution_count": 3,
     "metadata": {},
     "output_type": "execute_result"
    }
   ],
   "source": [
    "import sys\n",
    "sys.platform"
   ]
  },
  {
   "cell_type": "code",
   "execution_count": 4,
   "id": "5f0418a8",
   "metadata": {},
   "outputs": [
    {
     "name": "stdout",
     "output_type": "stream",
     "text": [
      "3.8.10 (default, Mar 15 2022, 12:22:08) \n",
      "[GCC 9.4.0]\n"
     ]
    }
   ],
   "source": [
    "print(sys.version)"
   ]
  },
  {
   "cell_type": "code",
   "execution_count": 6,
   "id": "ba8dbc6b",
   "metadata": {},
   "outputs": [
    {
     "data": {
      "text/plain": [
       "environ{'GJS_DEBUG_TOPICS': 'JS ERROR;JS LOG',\n",
       "        'SSH_AUTH_SOCK': '/run/user/1001/keyring/ssh',\n",
       "        'SESSION_MANAGER': 'local/vladmin-HP-280-G4-MT-Business-PC:@/tmp/.ICE-unix/7885,unix/vladmin-HP-280-G4-MT-Business-PC:/tmp/.ICE-unix/7885',\n",
       "        'GNOME_TERMINAL_SCREEN': '/org/gnome/Terminal/screen/bde6a41b_74c5_4ada_bae8_cf5aaebf0795',\n",
       "        'SSH_AGENT_PID': '7837',\n",
       "        'XDG_CURRENT_DESKTOP': 'ubuntu:GNOME',\n",
       "        'LANG': 'en_IN',\n",
       "        'LANGUAGE': 'en_IN:en',\n",
       "        'DEFAULTS_PATH': '/usr/share/gconf/ubuntu.default.path',\n",
       "        'DISPLAY': ':0',\n",
       "        'COLORTERM': 'truecolor',\n",
       "        'LIBVIRT_DEFAULT_URI': 'qemu:///system',\n",
       "        'GPG_AGENT_INFO': '/run/user/1001/gnupg/S.gpg-agent:0:1',\n",
       "        'DESKTOP_SESSION': 'ubuntu',\n",
       "        'QT_IM_MODULE': 'ibus',\n",
       "        'XDG_MENU_PREFIX': 'gnome-',\n",
       "        'USER': 'syedasamreen',\n",
       "        'GJS_DEBUG_OUTPUT': 'stderr',\n",
       "        'HOME': '/home/syedasamreen',\n",
       "        'DBUS_SESSION_BUS_ADDRESS': 'unix:path=/run/user/1001/bus',\n",
       "        'PWD': '/home/syedasamreen',\n",
       "        'GTK_MODULES': 'gail:atk-bridge',\n",
       "        '_': '/usr/bin/dbus-update-activation-environment',\n",
       "        'XDG_CONFIG_DIRS': '/etc/xdg/xdg-ubuntu:/etc/xdg',\n",
       "        'XDG_SESSION_DESKTOP': 'ubuntu',\n",
       "        'JOURNAL_STREAM': '8:63466',\n",
       "        'WINDOWPATH': '2',\n",
       "        'GNOME_DESKTOP_SESSION_ID': 'this-is-deprecated',\n",
       "        'MANAGERPID': '7622',\n",
       "        'MANDATORY_PATH': '/usr/share/gconf/ubuntu.mandatory.path',\n",
       "        'LOGNAME': 'syedasamreen',\n",
       "        'GNOME_TERMINAL_SERVICE': ':1.104',\n",
       "        'VTE_VERSION': '6003',\n",
       "        'PATH': '/home/syedasamreen/.local/bin:/usr/local/sbin:/usr/local/bin:/usr/sbin:/usr/bin:/sbin:/bin:/usr/games:/usr/local/games:/snap/bin',\n",
       "        'XDG_RUNTIME_DIR': '/run/user/1001',\n",
       "        'QT_ACCESSIBILITY': '1',\n",
       "        'XMODIFIERS': '@im=ibus',\n",
       "        'XDG_SESSION_TYPE': 'x11',\n",
       "        'GNOME_SHELL_SESSION_MODE': 'ubuntu',\n",
       "        'USERNAME': 'syedasamreen',\n",
       "        'SHELL': '/bin/bash',\n",
       "        'INVOCATION_ID': '7eae6cc07b454822a60212cedf87757b',\n",
       "        'SHLVL': '0',\n",
       "        'XAUTHORITY': '/run/user/1001/gdm/Xauthority',\n",
       "        'XDG_DATA_DIRS': '/usr/share/ubuntu:/usr/local/share/:/usr/share/:/var/lib/snapd/desktop',\n",
       "        'XDG_SESSION_CLASS': 'user',\n",
       "        'TERM': 'xterm-color',\n",
       "        'GDMSESSION': 'ubuntu',\n",
       "        'IM_CONFIG_PHASE': '1',\n",
       "        'PYDEVD_USE_FRAME_EVAL': 'NO',\n",
       "        'JPY_PARENT_PID': '12696',\n",
       "        'CLICOLOR': '1',\n",
       "        'PAGER': 'cat',\n",
       "        'GIT_PAGER': 'cat',\n",
       "        'MPLBACKEND': 'module://matplotlib_inline.backend_inline'}"
      ]
     },
     "execution_count": 6,
     "metadata": {},
     "output_type": "execute_result"
    }
   ],
   "source": [
    "import os\n",
    "os.getcwd()\n",
    "os.environ"
   ]
  },
  {
   "cell_type": "code",
   "execution_count": 8,
   "id": "4608c263",
   "metadata": {},
   "outputs": [
    {
     "data": {
      "text/plain": [
       "'/home/syedasamreen'"
      ]
     },
     "execution_count": 8,
     "metadata": {},
     "output_type": "execute_result"
    }
   ],
   "source": [
    "os.getenv('HOME')"
   ]
  },
  {
   "cell_type": "code",
   "execution_count": 9,
   "id": "ab488d0b",
   "metadata": {},
   "outputs": [
    {
     "data": {
      "text/plain": [
       "datetime.date(2022, 4, 1)"
      ]
     },
     "execution_count": 9,
     "metadata": {},
     "output_type": "execute_result"
    }
   ],
   "source": [
    "import datetime\n",
    "datetime.date.today()"
   ]
  },
  {
   "cell_type": "code",
   "execution_count": 10,
   "id": "62e494a7",
   "metadata": {},
   "outputs": [
    {
     "data": {
      "text/plain": [
       "1"
      ]
     },
     "execution_count": 10,
     "metadata": {},
     "output_type": "execute_result"
    }
   ],
   "source": [
    "datetime.date.today().day"
   ]
  },
  {
   "cell_type": "code",
   "execution_count": 11,
   "id": "2c989f25",
   "metadata": {},
   "outputs": [
    {
     "data": {
      "text/plain": [
       "4"
      ]
     },
     "execution_count": 11,
     "metadata": {},
     "output_type": "execute_result"
    }
   ],
   "source": [
    " datetime.date.today().month"
   ]
  },
  {
   "cell_type": "code",
   "execution_count": 12,
   "id": "fff7eb19",
   "metadata": {},
   "outputs": [
    {
     "data": {
      "text/plain": [
       "2022"
      ]
     },
     "execution_count": 12,
     "metadata": {},
     "output_type": "execute_result"
    }
   ],
   "source": [
    " datetime.date.today().year"
   ]
  },
  {
   "cell_type": "code",
   "execution_count": 13,
   "id": "00bdd7ae",
   "metadata": {},
   "outputs": [
    {
     "data": {
      "text/plain": [
       "'2022-04-01'"
      ]
     },
     "execution_count": 13,
     "metadata": {},
     "output_type": "execute_result"
    }
   ],
   "source": [
    "datetime.date.isoformat(datetime.date.today())"
   ]
  },
  {
   "cell_type": "code",
   "execution_count": 15,
   "id": "5ed4534e",
   "metadata": {},
   "outputs": [
    {
     "data": {
      "text/plain": [
       "'12:22:48'"
      ]
     },
     "execution_count": 15,
     "metadata": {},
     "output_type": "execute_result"
    }
   ],
   "source": [
    "import time\n",
    "time.strftime(\"%H:%M:%S\")"
   ]
  },
  {
   "cell_type": "code",
   "execution_count": 18,
   "id": "0493d40b",
   "metadata": {},
   "outputs": [
    {
     "data": {
      "text/plain": [
       "'Friday PM'"
      ]
     },
     "execution_count": 18,
     "metadata": {},
     "output_type": "execute_result"
    }
   ],
   "source": [
    "time.strftime(\"%A %p\")"
   ]
  },
  {
   "cell_type": "code",
   "execution_count": 20,
   "id": "71ab64b5",
   "metadata": {},
   "outputs": [
    {
     "data": {
      "text/plain": [
       "'This HTML fragment contains a &lt;script&gt;script&lt;/script&gt; tag.'"
      ]
     },
     "execution_count": 20,
     "metadata": {},
     "output_type": "execute_result"
    }
   ],
   "source": [
    "import html\n",
    "html.escape(\"This HTML fragment contains a <script>script</script> tag.\")"
   ]
  },
  {
   "cell_type": "code",
   "execution_count": 21,
   "id": "7651272c",
   "metadata": {},
   "outputs": [
    {
     "data": {
      "text/plain": [
       "\"I ♥ Python's <standard library>.\""
      ]
     },
     "execution_count": 21,
     "metadata": {},
     "output_type": "execute_result"
    }
   ],
   "source": [
    "html.unescape(\"I &hearts; Python's &lt;standard library&gt;.\")"
   ]
  },
  {
   "cell_type": "code",
   "execution_count": 22,
   "id": "b91f0b33",
   "metadata": {},
   "outputs": [
    {
     "name": "stdout",
     "output_type": "stream",
     "text": [
      "head out 1st\n",
      "head out 1st\n",
      "head out 1st\n",
      "head out 1st\n",
      "head out 1st\n",
      "head out 1st\n"
     ]
    }
   ],
   "source": [
    "for num in range(6):\n",
    "    print(\"head out 1st\")\n"
   ]
  },
  {
   "cell_type": "code",
   "execution_count": 2,
   "id": "7a7191b8",
   "metadata": {},
   "outputs": [],
   "source": [
    "import random"
   ]
  },
  {
   "cell_type": "code",
   "execution_count": 3,
   "id": "2c2c5e3a",
   "metadata": {},
   "outputs": [
    {
     "data": {
      "text/plain": [
       "17"
      ]
     },
     "execution_count": 3,
     "metadata": {},
     "output_type": "execute_result"
    }
   ],
   "source": [
    "random.randint(1,60)"
   ]
  },
  {
   "cell_type": "code",
   "execution_count": 5,
   "id": "c26ab2e6",
   "metadata": {},
   "outputs": [
    {
     "name": "stdout",
     "output_type": "stream",
     "text": [
      "55\n",
      "not an odd minute\n",
      "not an odd minute\n",
      "not an odd minute\n",
      "not an odd minute\n",
      "not an odd minute\n"
     ]
    }
   ],
   "source": [
    "import time\n",
    "from datetime import datetime\n",
    "odds = [1,3,5,7,9,11,13,15,17,19]\n",
    "right_this_minute = datetime.today().minute\n",
    "print(right_this_minute)\n",
    "for i in range(5):\n",
    "    if right_this_minute in odds:\n",
    "        print(\"this minute seems a little odd.\")\n",
    "    else:\n",
    "        print(\"not an odd minute\")\n",
    "    wait_time = random.randint(1,20)\n",
    "    time.sleep(wait_time)"
   ]
  },
  {
   "cell_type": "code",
   "execution_count": 9,
   "id": "207e0374",
   "metadata": {},
   "outputs": [
    {
     "name": "stdout",
     "output_type": "stream",
     "text": [
      "5 bottles of juice on the wall\n",
      "5 bottles of beer\n",
      "take one\n",
      "pass it around\n",
      "5 bottles of juice on the wall\n",
      "\n",
      "4 bottles of juice on the wall\n",
      "4 bottles of beer\n",
      "take one\n",
      "pass it around\n",
      "4 bottles of juice on the wall\n",
      "\n",
      "3 bottles of juice on the wall\n",
      "3 bottles of beer\n",
      "take one\n",
      "pass it around\n",
      "3 bottles of juice on the wall\n",
      "\n",
      "2 bottles of juice on the wall\n",
      "2 bottles of beer\n",
      "take one\n",
      "pass it around\n",
      "2 bottle of juice on the wall\n",
      "\n",
      "1 bottle of juice on the wall\n",
      "1 bottle of beer\n",
      "take one\n",
      "pass it around\n",
      "no more juice\n",
      "\n"
     ]
    }
   ],
   "source": [
    "word = 'bottles'\n",
    "for num in range(5,0,-1):\n",
    "    print(num, word,\"of juice on the wall\")\n",
    "    print(num,word,\"of beer\")\n",
    "    print(\"take one\")\n",
    "    print(\"pass it around\")\n",
    "    if num == 1:\n",
    "        print(\"no more juice\")\n",
    "    else:\n",
    "        ne_num = num-1\n",
    "        if ne_num == 1:\n",
    "            word = 'bottle'\n",
    "        print(num, word, \"of juice on the wall\")\n",
    "    print()\n",
    "        "
   ]
  },
  {
   "cell_type": "code",
   "execution_count": 1,
   "id": "14930f53",
   "metadata": {},
   "outputs": [
    {
     "ename": "NameError",
     "evalue": "name '__init__' is not defined",
     "output_type": "error",
     "traceback": [
      "\u001b[0;31m---------------------------------------------------------------------------\u001b[0m",
      "\u001b[0;31mNameError\u001b[0m                                 Traceback (most recent call last)",
      "\u001b[0;32m/tmp/ipykernel_51787/3284882057.py\u001b[0m in \u001b[0;36m<module>\u001b[0;34m\u001b[0m\n\u001b[0;32m----> 1\u001b[0;31m \u001b[0mhelp\u001b[0m\u001b[0;34m(\u001b[0m\u001b[0m__init__\u001b[0m\u001b[0;34m)\u001b[0m\u001b[0;34m\u001b[0m\u001b[0;34m\u001b[0m\u001b[0m\n\u001b[0m",
      "\u001b[0;31mNameError\u001b[0m: name '__init__' is not defined"
     ]
    }
   ],
   "source": [
    "help(__init__)"
   ]
  }
 ],
 "metadata": {
  "kernelspec": {
   "display_name": "Python 3 (ipykernel)",
   "language": "python",
   "name": "python3"
  },
  "language_info": {
   "codemirror_mode": {
    "name": "ipython",
    "version": 3
   },
   "file_extension": ".py",
   "mimetype": "text/x-python",
   "name": "python",
   "nbconvert_exporter": "python",
   "pygments_lexer": "ipython3",
   "version": "3.8.10"
  }
 },
 "nbformat": 4,
 "nbformat_minor": 5
}
