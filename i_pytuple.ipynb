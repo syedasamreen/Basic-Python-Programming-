{
 "cells": [
  {
   "cell_type": "markdown",
   "id": "a9006ad7",
   "metadata": {},
   "source": [
    "#Tuple"
   ]
  },
  {
   "cell_type": "code",
   "execution_count": 1,
   "id": "aa7d49a9",
   "metadata": {},
   "outputs": [
    {
     "data": {
      "text/plain": [
       "(1, 5, 6, 8, 9, 7, 5, 6, 'tuple', 'immutable', 'cannt change')"
      ]
     },
     "execution_count": 1,
     "metadata": {},
     "output_type": "execute_result"
    }
   ],
   "source": [
    "t = (1,5,6,8,9,7,5,6,\"tuple\",\"immutable\",\"cannt change\");t"
   ]
  },
  {
   "cell_type": "code",
   "execution_count": 4,
   "id": "e236f562",
   "metadata": {},
   "outputs": [
    {
     "data": {
      "text/plain": [
       "(1, 6, 9, 5, 'tuple')"
      ]
     },
     "execution_count": 4,
     "metadata": {},
     "output_type": "execute_result"
    }
   ],
   "source": [
    "t[0:10:2]"
   ]
  },
  {
   "cell_type": "code",
   "execution_count": 6,
   "id": "b6becb3f",
   "metadata": {},
   "outputs": [
    {
     "data": {
      "text/plain": [
       "()"
      ]
     },
     "execution_count": 6,
     "metadata": {},
     "output_type": "execute_result"
    }
   ],
   "source": [
    "t[0:4:-1]"
   ]
  },
  {
   "cell_type": "code",
   "execution_count": 7,
   "id": "b60f9ef2",
   "metadata": {},
   "outputs": [
    {
     "data": {
      "text/plain": [
       "('cannt change', 'immutable', 'tuple', 6, 5, 7)"
      ]
     },
     "execution_count": 7,
     "metadata": {},
     "output_type": "execute_result"
    }
   ],
   "source": [
    "t[10:4:-1]"
   ]
  },
  {
   "cell_type": "code",
   "execution_count": 8,
   "id": "a4aa4d3c",
   "metadata": {},
   "outputs": [
    {
     "data": {
      "text/plain": [
       "1"
      ]
     },
     "execution_count": 8,
     "metadata": {},
     "output_type": "execute_result"
    }
   ],
   "source": [
    "t.count(1)"
   ]
  },
  {
   "cell_type": "code",
   "execution_count": 10,
   "id": "356a9d7b",
   "metadata": {},
   "outputs": [
    {
     "data": {
      "text/plain": [
       "3"
      ]
     },
     "execution_count": 10,
     "metadata": {},
     "output_type": "execute_result"
    }
   ],
   "source": [
    "t.index(8)"
   ]
  },
  {
   "cell_type": "code",
   "execution_count": 11,
   "id": "a0d1f65a",
   "metadata": {},
   "outputs": [
    {
     "ename": "TypeError",
     "evalue": "'tuple' object does not support item assignment",
     "output_type": "error",
     "traceback": [
      "\u001b[0;31m---------------------------------------------------------------------------\u001b[0m",
      "\u001b[0;31mTypeError\u001b[0m                                 Traceback (most recent call last)",
      "\u001b[0;32m/tmp/ipykernel_23977/3463816864.py\u001b[0m in \u001b[0;36m<module>\u001b[0;34m\u001b[0m\n\u001b[0;32m----> 1\u001b[0;31m \u001b[0mt\u001b[0m\u001b[0;34m[\u001b[0m\u001b[0;36m1\u001b[0m\u001b[0;34m]\u001b[0m \u001b[0;34m=\u001b[0m \u001b[0;36m4\u001b[0m\u001b[0;34m\u001b[0m\u001b[0;34m\u001b[0m\u001b[0m\n\u001b[0m",
      "\u001b[0;31mTypeError\u001b[0m: 'tuple' object does not support item assignment"
     ]
    }
   ],
   "source": [
    "t[1] = 4"
   ]
  },
  {
   "cell_type": "code",
   "execution_count": 13,
   "id": "ca9b1004",
   "metadata": {},
   "outputs": [],
   "source": [
    "t1 = \"sam@12\""
   ]
  },
  {
   "cell_type": "code",
   "execution_count": 14,
   "id": "10ce923f",
   "metadata": {},
   "outputs": [
    {
     "data": {
      "text/plain": [
       "'s'"
      ]
     },
     "execution_count": 14,
     "metadata": {},
     "output_type": "execute_result"
    }
   ],
   "source": [
    "t1[0]"
   ]
  },
  {
   "cell_type": "code",
   "execution_count": 15,
   "id": "442e5acd",
   "metadata": {},
   "outputs": [
    {
     "data": {
      "text/plain": [
       "'sam@12sam@12'"
      ]
     },
     "execution_count": 15,
     "metadata": {},
     "output_type": "execute_result"
    }
   ],
   "source": [
    "t+t1"
   ]
  },
  {
   "cell_type": "code",
   "execution_count": 16,
   "id": "e9a43d07",
   "metadata": {},
   "outputs": [
    {
     "data": {
      "text/plain": [
       "'sam@12'"
      ]
     },
     "execution_count": 16,
     "metadata": {},
     "output_type": "execute_result"
    }
   ],
   "source": [
    "t"
   ]
  },
  {
   "cell_type": "code",
   "execution_count": 17,
   "id": "639b8f4a",
   "metadata": {},
   "outputs": [
    {
     "data": {
      "text/plain": [
       "'sam@12'"
      ]
     },
     "execution_count": 17,
     "metadata": {},
     "output_type": "execute_result"
    }
   ],
   "source": [
    "t1"
   ]
  },
  {
   "cell_type": "code",
   "execution_count": 18,
   "id": "ad2306fc",
   "metadata": {},
   "outputs": [
    {
     "data": {
      "text/plain": [
       "(1, 5, 6, 8, 9, 7, 5, 6, 'tuple', 'immutable', 'cannt change')"
      ]
     },
     "execution_count": 18,
     "metadata": {},
     "output_type": "execute_result"
    }
   ],
   "source": [
    "t = (1,5,6,8,9,7,5,6,\"tuple\",\"immutable\",\"cannt change\");t"
   ]
  },
  {
   "cell_type": "code",
   "execution_count": 25,
   "id": "5b31143f",
   "metadata": {},
   "outputs": [
    {
     "data": {
      "text/plain": [
       "tuple"
      ]
     },
     "execution_count": 25,
     "metadata": {},
     "output_type": "execute_result"
    }
   ],
   "source": [
    "t1 = (3,4,5,8,6);type(t1)"
   ]
  },
  {
   "cell_type": "code",
   "execution_count": 26,
   "id": "1b1b18b2",
   "metadata": {},
   "outputs": [
    {
     "data": {
      "text/plain": [
       "(1, 5, 6, 8, 9, 7, 5, 6, 'tuple', 'immutable', 'cannt change', 3, 4, 5, 8, 6)"
      ]
     },
     "execution_count": 26,
     "metadata": {},
     "output_type": "execute_result"
    }
   ],
   "source": [
    "t+t1"
   ]
  },
  {
   "cell_type": "code",
   "execution_count": 30,
   "id": "230eecef",
   "metadata": {},
   "outputs": [
    {
     "data": {
      "text/plain": [
       "tuple"
      ]
     },
     "execution_count": 30,
     "metadata": {},
     "output_type": "execute_result"
    }
   ],
   "source": [
    "t = 'sam@12',;type(t)"
   ]
  },
  {
   "cell_type": "code",
   "execution_count": 31,
   "id": "0882446e",
   "metadata": {},
   "outputs": [
    {
     "ename": "TypeError",
     "evalue": "'tuple' object does not support item assignment",
     "output_type": "error",
     "traceback": [
      "\u001b[0;31m---------------------------------------------------------------------------\u001b[0m",
      "\u001b[0;31mTypeError\u001b[0m                                 Traceback (most recent call last)",
      "\u001b[0;32m/tmp/ipykernel_23977/3001698845.py\u001b[0m in \u001b[0;36m<module>\u001b[0;34m\u001b[0m\n\u001b[0;32m----> 1\u001b[0;31m \u001b[0mt\u001b[0m\u001b[0;34m[\u001b[0m\u001b[0;36m0\u001b[0m\u001b[0;34m]\u001b[0m\u001b[0;34m=\u001b[0m\u001b[0;34m'r'\u001b[0m\u001b[0;34m\u001b[0m\u001b[0;34m\u001b[0m\u001b[0m\n\u001b[0m",
      "\u001b[0;31mTypeError\u001b[0m: 'tuple' object does not support item assignment"
     ]
    }
   ],
   "source": [
    "t[0]='r'"
   ]
  },
  {
   "cell_type": "code",
   "execution_count": 32,
   "id": "e585df82",
   "metadata": {},
   "outputs": [
    {
     "data": {
      "text/plain": [
       "dict"
      ]
     },
     "execution_count": 32,
     "metadata": {},
     "output_type": "execute_result"
    }
   ],
   "source": [
    "d = {};type(d)"
   ]
  },
  {
   "cell_type": "code",
   "execution_count": 34,
   "id": "6d8ab039",
   "metadata": {},
   "outputs": [
    {
     "data": {
      "text/plain": [
       "set"
      ]
     },
     "execution_count": 34,
     "metadata": {},
     "output_type": "execute_result"
    }
   ],
   "source": [
    "d1 = {1,2,3};type(d1)"
   ]
  },
  {
   "cell_type": "code",
   "execution_count": 35,
   "id": "bbd666af",
   "metadata": {},
   "outputs": [],
   "source": [
    "d2 = {1:\"one\",2:\"two\",3:\"three\",4:\"four\"}"
   ]
  },
  {
   "cell_type": "code",
   "execution_count": 36,
   "id": "4eb79582",
   "metadata": {},
   "outputs": [
    {
     "data": {
      "text/plain": [
       "{1: 'one', 2: 'two', 3: 'three', 4: 'four'}"
      ]
     },
     "execution_count": 36,
     "metadata": {},
     "output_type": "execute_result"
    }
   ],
   "source": [
    "d2"
   ]
  },
  {
   "cell_type": "code",
   "execution_count": 37,
   "id": "08845f0b",
   "metadata": {},
   "outputs": [
    {
     "data": {
      "text/plain": [
       "'one'"
      ]
     },
     "execution_count": 37,
     "metadata": {},
     "output_type": "execute_result"
    }
   ],
   "source": [
    "d2[1]"
   ]
  },
  {
   "cell_type": "code",
   "execution_count": 38,
   "id": "b02dbda5",
   "metadata": {},
   "outputs": [
    {
     "data": {
      "text/plain": [
       "'three'"
      ]
     },
     "execution_count": 38,
     "metadata": {},
     "output_type": "execute_result"
    }
   ],
   "source": [
    "d2[3]"
   ]
  },
  {
   "cell_type": "code",
   "execution_count": 41,
   "id": "bff879bb",
   "metadata": {},
   "outputs": [],
   "source": [
    "d3 = {5:\"five\",6:[\"six\",\"seven\",\"eight\",\"nine\"]}"
   ]
  },
  {
   "cell_type": "code",
   "execution_count": 42,
   "id": "b9df379a",
   "metadata": {},
   "outputs": [
    {
     "data": {
      "text/plain": [
       "['six', 'seven', 'eight', 'nine']"
      ]
     },
     "execution_count": 42,
     "metadata": {},
     "output_type": "execute_result"
    }
   ],
   "source": [
    "d3[6]"
   ]
  },
  {
   "cell_type": "code",
   "execution_count": 44,
   "id": "e8875b49",
   "metadata": {},
   "outputs": [
    {
     "data": {
      "text/plain": [
       "True"
      ]
     },
     "execution_count": 44,
     "metadata": {},
     "output_type": "execute_result"
    }
   ],
   "source": [
    "\"six\" in d3[6]"
   ]
  },
  {
   "cell_type": "code",
   "execution_count": 49,
   "id": "afd35f95",
   "metadata": {},
   "outputs": [],
   "source": [
    "d4 = {\"employee\":\"sam\",\"contact\":973181,\"name\":\"sam\"}"
   ]
  },
  {
   "cell_type": "code",
   "execution_count": 50,
   "id": "04ecc423",
   "metadata": {},
   "outputs": [
    {
     "data": {
      "text/plain": [
       "{'employee': 'sam', 'contact': 973181, 'name': 'sam'}"
      ]
     },
     "execution_count": 50,
     "metadata": {},
     "output_type": "execute_result"
    }
   ],
   "source": [
    "d4"
   ]
  },
  {
   "cell_type": "code",
   "execution_count": 51,
   "id": "096570e7",
   "metadata": {},
   "outputs": [],
   "source": [
    "d4['k2']=d2"
   ]
  },
  {
   "cell_type": "code",
   "execution_count": 52,
   "id": "54365a80",
   "metadata": {},
   "outputs": [
    {
     "data": {
      "text/plain": [
       "{'employee': 'sam',\n",
       " 'contact': 973181,\n",
       " 'name': 'sam',\n",
       " 'k2': {1: 'one', 2: 'two', 3: 'three', 4: 'four'}}"
      ]
     },
     "execution_count": 52,
     "metadata": {},
     "output_type": "execute_result"
    }
   ],
   "source": [
    "d4"
   ]
  },
  {
   "cell_type": "code",
   "execution_count": 60,
   "id": "b4fed0d9",
   "metadata": {},
   "outputs": [],
   "source": [
    "d5 =  {_:\"field\"}"
   ]
  },
  {
   "cell_type": "code",
   "execution_count": 62,
   "id": "cdf961cd",
   "metadata": {},
   "outputs": [],
   "source": [
    "d6 = {(3,4):\"key\"}"
   ]
  },
  {
   "cell_type": "code",
   "execution_count": 63,
   "id": "6530599f",
   "metadata": {},
   "outputs": [],
   "source": [
    "d7 = {\"key\":[1,2,3,4,5],\"key1\":(1,5,6,9,8),\"key2\":{7,8,9,5,6}}"
   ]
  },
  {
   "cell_type": "code",
   "execution_count": 64,
   "id": "a6becc4d",
   "metadata": {},
   "outputs": [
    {
     "data": {
      "text/plain": [
       "{'key': [1, 2, 3, 4, 5], 'key1': (1, 5, 6, 9, 8), 'key2': {5, 6, 7, 8, 9}}"
      ]
     },
     "execution_count": 64,
     "metadata": {},
     "output_type": "execute_result"
    }
   ],
   "source": [
    "d7"
   ]
  },
  {
   "cell_type": "code",
   "execution_count": 65,
   "id": "b8b57d7d",
   "metadata": {},
   "outputs": [],
   "source": [
    "d7.clear()"
   ]
  },
  {
   "cell_type": "code",
   "execution_count": 66,
   "id": "0502387f",
   "metadata": {},
   "outputs": [
    {
     "data": {
      "text/plain": [
       "{}"
      ]
     },
     "execution_count": 66,
     "metadata": {},
     "output_type": "execute_result"
    }
   ],
   "source": [
    "d7"
   ]
  },
  {
   "cell_type": "code",
   "execution_count": 67,
   "id": "9bf6b3ae",
   "metadata": {},
   "outputs": [
    {
     "data": {
      "text/plain": [
       "{(3, 4): 'key'}"
      ]
     },
     "execution_count": 67,
     "metadata": {},
     "output_type": "execute_result"
    }
   ],
   "source": [
    "d6.copy()"
   ]
  },
  {
   "cell_type": "code",
   "execution_count": 68,
   "id": "0156b330",
   "metadata": {},
   "outputs": [
    {
     "data": {
      "text/plain": [
       "{(3, 4): 'key'}"
      ]
     },
     "execution_count": 68,
     "metadata": {},
     "output_type": "execute_result"
    }
   ],
   "source": [
    "d6"
   ]
  },
  {
   "cell_type": "code",
   "execution_count": 73,
   "id": "92546577",
   "metadata": {},
   "outputs": [
    {
     "ename": "TypeError",
     "evalue": "'int' object is not iterable",
     "output_type": "error",
     "traceback": [
      "\u001b[0;31m---------------------------------------------------------------------------\u001b[0m",
      "\u001b[0;31mTypeError\u001b[0m                                 Traceback (most recent call last)",
      "\u001b[0;32m/tmp/ipykernel_23977/195086877.py\u001b[0m in \u001b[0;36m<module>\u001b[0;34m\u001b[0m\n\u001b[0;32m----> 1\u001b[0;31m \u001b[0md3\u001b[0m\u001b[0;34m.\u001b[0m\u001b[0mfromkeys\u001b[0m\u001b[0;34m(\u001b[0m\u001b[0;36m1\u001b[0m\u001b[0;34m,\u001b[0m\u001b[0;36m2\u001b[0m\u001b[0;34m)\u001b[0m\u001b[0;34m\u001b[0m\u001b[0;34m\u001b[0m\u001b[0m\n\u001b[0m",
      "\u001b[0;31mTypeError\u001b[0m: 'int' object is not iterable"
     ]
    }
   ],
   "source": [
    "d3.fromkeys(1,2)"
   ]
  },
  {
   "cell_type": "code",
   "execution_count": 74,
   "id": "4b2c14a1",
   "metadata": {},
   "outputs": [
    {
     "ename": "TypeError",
     "evalue": "unsupported operand type(s) for +: 'dict' and 'dict'",
     "output_type": "error",
     "traceback": [
      "\u001b[0;31m---------------------------------------------------------------------------\u001b[0m",
      "\u001b[0;31mTypeError\u001b[0m                                 Traceback (most recent call last)",
      "\u001b[0;32m/tmp/ipykernel_23977/4179756737.py\u001b[0m in \u001b[0;36m<module>\u001b[0;34m\u001b[0m\n\u001b[0;32m----> 1\u001b[0;31m \u001b[0md3\u001b[0m\u001b[0;34m+\u001b[0m\u001b[0md4\u001b[0m\u001b[0;34m\u001b[0m\u001b[0;34m\u001b[0m\u001b[0m\n\u001b[0m",
      "\u001b[0;31mTypeError\u001b[0m: unsupported operand type(s) for +: 'dict' and 'dict'"
     ]
    }
   ],
   "source": [
    "d3+d4"
   ]
  },
  {
   "cell_type": "code",
   "execution_count": 75,
   "id": "7cfda3cc",
   "metadata": {},
   "outputs": [
    {
     "data": {
      "text/plain": [
       "{5: 'five', 6: ['six', 'seven', 'eight', 'nine']}"
      ]
     },
     "execution_count": 75,
     "metadata": {},
     "output_type": "execute_result"
    }
   ],
   "source": [
    "d3"
   ]
  },
  {
   "cell_type": "code",
   "execution_count": 76,
   "id": "0ce52adb",
   "metadata": {},
   "outputs": [
    {
     "data": {
      "text/plain": [
       "dict_keys([5, 6])"
      ]
     },
     "execution_count": 76,
     "metadata": {},
     "output_type": "execute_result"
    }
   ],
   "source": [
    "d3.keys()"
   ]
  },
  {
   "cell_type": "code",
   "execution_count": 78,
   "id": "26b10472",
   "metadata": {},
   "outputs": [
    {
     "data": {
      "text/plain": [
       "'five'"
      ]
     },
     "execution_count": 78,
     "metadata": {},
     "output_type": "execute_result"
    }
   ],
   "source": [
    "d3.get(5)"
   ]
  },
  {
   "cell_type": "code",
   "execution_count": 79,
   "id": "471cbce7",
   "metadata": {},
   "outputs": [
    {
     "data": {
      "text/plain": [
       "dict_items([(5, 'five'), (6, ['six', 'seven', 'eight', 'nine'])])"
      ]
     },
     "execution_count": 79,
     "metadata": {},
     "output_type": "execute_result"
    }
   ],
   "source": [
    "d3.items()"
   ]
  },
  {
   "cell_type": "code",
   "execution_count": 80,
   "id": "78eb66bc",
   "metadata": {},
   "outputs": [
    {
     "data": {
      "text/plain": [
       "'five'"
      ]
     },
     "execution_count": 80,
     "metadata": {},
     "output_type": "execute_result"
    }
   ],
   "source": [
    "d3.pop(5)"
   ]
  },
  {
   "cell_type": "code",
   "execution_count": 81,
   "id": "f56e7799",
   "metadata": {},
   "outputs": [
    {
     "data": {
      "text/plain": [
       "{6: ['six', 'seven', 'eight', 'nine']}"
      ]
     },
     "execution_count": 81,
     "metadata": {},
     "output_type": "execute_result"
    }
   ],
   "source": [
    "d3"
   ]
  },
  {
   "cell_type": "code",
   "execution_count": 83,
   "id": "b4322c4f",
   "metadata": {},
   "outputs": [
    {
     "data": {
      "text/plain": [
       "(6, ['six', 'seven', 'eight', 'nine'])"
      ]
     },
     "execution_count": 83,
     "metadata": {},
     "output_type": "execute_result"
    }
   ],
   "source": [
    "d3.popitem()"
   ]
  },
  {
   "cell_type": "code",
   "execution_count": null,
   "id": "8ed4d46b",
   "metadata": {},
   "outputs": [],
   "source": []
  },
  {
   "cell_type": "code",
   "execution_count": 84,
   "id": "e92d3c9f",
   "metadata": {},
   "outputs": [
    {
     "data": {
      "text/plain": [
       "{}"
      ]
     },
     "execution_count": 84,
     "metadata": {},
     "output_type": "execute_result"
    }
   ],
   "source": [
    "d3"
   ]
  },
  {
   "cell_type": "code",
   "execution_count": 87,
   "id": "3696e296",
   "metadata": {},
   "outputs": [
    {
     "data": {
      "text/plain": [
       "{1: 'one', 2: 'two', 3: 'three', 4: 'four'}"
      ]
     },
     "execution_count": 87,
     "metadata": {},
     "output_type": "execute_result"
    }
   ],
   "source": [
    "d2"
   ]
  },
  {
   "cell_type": "code",
   "execution_count": 89,
   "id": "124edc92",
   "metadata": {},
   "outputs": [
    {
     "data": {
      "text/plain": [
       "'one'"
      ]
     },
     "execution_count": 89,
     "metadata": {},
     "output_type": "execute_result"
    }
   ],
   "source": [
    "d2.setdefault(1)"
   ]
  },
  {
   "cell_type": "code",
   "execution_count": 90,
   "id": "19d307e0",
   "metadata": {},
   "outputs": [
    {
     "data": {
      "text/plain": [
       "{1: 'one', 2: 'two', 3: 'three', 4: 'four'}"
      ]
     },
     "execution_count": 90,
     "metadata": {},
     "output_type": "execute_result"
    }
   ],
   "source": [
    "d2"
   ]
  },
  {
   "cell_type": "code",
   "execution_count": 91,
   "id": "95c68733",
   "metadata": {},
   "outputs": [],
   "source": [
    "d2.update()"
   ]
  },
  {
   "cell_type": "code",
   "execution_count": 92,
   "id": "82af0680",
   "metadata": {},
   "outputs": [
    {
     "data": {
      "text/plain": [
       "{1: 'one', 2: 'two', 3: 'three', 4: 'four'}"
      ]
     },
     "execution_count": 92,
     "metadata": {},
     "output_type": "execute_result"
    }
   ],
   "source": [
    "d2"
   ]
  },
  {
   "cell_type": "code",
   "execution_count": 93,
   "id": "631461e4",
   "metadata": {},
   "outputs": [
    {
     "data": {
      "text/plain": [
       "dict_values(['one', 'two', 'three', 'four'])"
      ]
     },
     "execution_count": 93,
     "metadata": {},
     "output_type": "execute_result"
    }
   ],
   "source": [
    "d2.values()"
   ]
  },
  {
   "cell_type": "code",
   "execution_count": 94,
   "id": "59179c47",
   "metadata": {},
   "outputs": [
    {
     "data": {
      "text/plain": [
       "{}"
      ]
     },
     "execution_count": 94,
     "metadata": {},
     "output_type": "execute_result"
    }
   ],
   "source": [
    "d"
   ]
  },
  {
   "cell_type": "code",
   "execution_count": 95,
   "id": "5ea55241",
   "metadata": {},
   "outputs": [
    {
     "data": {
      "text/plain": [
       "{1, 2, 3}"
      ]
     },
     "execution_count": 95,
     "metadata": {},
     "output_type": "execute_result"
    }
   ],
   "source": [
    "d1"
   ]
  },
  {
   "cell_type": "code",
   "execution_count": 96,
   "id": "a4c745fe",
   "metadata": {},
   "outputs": [],
   "source": [
    "s1 = {8,9,5,6,1,2,0,36,4,7,8,5,6,9,2,1,6,2,3}"
   ]
  },
  {
   "cell_type": "code",
   "execution_count": 97,
   "id": "a47967c4",
   "metadata": {},
   "outputs": [
    {
     "data": {
      "text/plain": [
       "{0, 1, 2, 3, 4, 5, 6, 7, 8, 9, 36}"
      ]
     },
     "execution_count": 97,
     "metadata": {},
     "output_type": "execute_result"
    }
   ],
   "source": [
    "s1"
   ]
  },
  {
   "cell_type": "code",
   "execution_count": 98,
   "id": "92a898ae",
   "metadata": {},
   "outputs": [],
   "source": [
    "s1.add(10)"
   ]
  },
  {
   "cell_type": "code",
   "execution_count": 99,
   "id": "c0b22e1b",
   "metadata": {},
   "outputs": [
    {
     "data": {
      "text/plain": [
       "{0, 1, 2, 3, 4, 5, 6, 7, 8, 9, 10, 36}"
      ]
     },
     "execution_count": 99,
     "metadata": {},
     "output_type": "execute_result"
    }
   ],
   "source": [
    "s1"
   ]
  },
  {
   "cell_type": "code",
   "execution_count": 101,
   "id": "ccf1def1",
   "metadata": {},
   "outputs": [],
   "source": [
    "s1.clear()"
   ]
  },
  {
   "cell_type": "code",
   "execution_count": 102,
   "id": "a34ef197",
   "metadata": {},
   "outputs": [
    {
     "data": {
      "text/plain": [
       "set()"
      ]
     },
     "execution_count": 102,
     "metadata": {},
     "output_type": "execute_result"
    }
   ],
   "source": [
    "s1.copy()"
   ]
  },
  {
   "cell_type": "code",
   "execution_count": 103,
   "id": "16d66c35",
   "metadata": {},
   "outputs": [
    {
     "data": {
      "text/plain": [
       "set()"
      ]
     },
     "execution_count": 103,
     "metadata": {},
     "output_type": "execute_result"
    }
   ],
   "source": [
    "s1"
   ]
  },
  {
   "cell_type": "code",
   "execution_count": 104,
   "id": "091d01f5",
   "metadata": {},
   "outputs": [
    {
     "data": {
      "text/plain": [
       "set()"
      ]
     },
     "execution_count": 104,
     "metadata": {},
     "output_type": "execute_result"
    }
   ],
   "source": [
    "s1.difference()"
   ]
  },
  {
   "cell_type": "code",
   "execution_count": 105,
   "id": "c183c231",
   "metadata": {},
   "outputs": [],
   "source": [
    "s1 = {8,9,5,6,1,2,0,36,4,7,8,5,6,9,2,1,6,2,3}"
   ]
  },
  {
   "cell_type": "code",
   "execution_count": 106,
   "id": "b6641140",
   "metadata": {},
   "outputs": [
    {
     "data": {
      "text/plain": [
       "{0, 1, 2, 3, 4, 5, 6, 7, 8, 9, 36}"
      ]
     },
     "execution_count": 106,
     "metadata": {},
     "output_type": "execute_result"
    }
   ],
   "source": [
    "s1"
   ]
  },
  {
   "cell_type": "code",
   "execution_count": 107,
   "id": "4cce706f",
   "metadata": {},
   "outputs": [
    {
     "data": {
      "text/plain": [
       "{0, 1, 2, 3, 4, 5, 6, 7, 8, 9, 36}"
      ]
     },
     "execution_count": 107,
     "metadata": {},
     "output_type": "execute_result"
    }
   ],
   "source": [
    "s1.difference()"
   ]
  },
  {
   "cell_type": "code",
   "execution_count": 108,
   "id": "655d3a3e",
   "metadata": {},
   "outputs": [],
   "source": [
    "s1.difference_update()"
   ]
  },
  {
   "cell_type": "code",
   "execution_count": 109,
   "id": "a300d413",
   "metadata": {},
   "outputs": [
    {
     "data": {
      "text/plain": [
       "{0, 1, 2, 3, 4, 5, 6, 7, 8, 9, 36}"
      ]
     },
     "execution_count": 109,
     "metadata": {},
     "output_type": "execute_result"
    }
   ],
   "source": [
    "s1"
   ]
  },
  {
   "cell_type": "code",
   "execution_count": 111,
   "id": "11937bab",
   "metadata": {},
   "outputs": [],
   "source": [
    "s1.discard(4)"
   ]
  },
  {
   "cell_type": "markdown",
   "id": "097ef0d9",
   "metadata": {},
   "source": [
    "# "
   ]
  },
  {
   "cell_type": "code",
   "execution_count": 114,
   "id": "90ddedee",
   "metadata": {},
   "outputs": [
    {
     "data": {
      "text/plain": [
       "{0, 1, 2, 3, 5, 6, 7, 8, 9, 36}"
      ]
     },
     "execution_count": 114,
     "metadata": {},
     "output_type": "execute_result"
    }
   ],
   "source": [
    "\n",
    "s1"
   ]
  },
  {
   "cell_type": "markdown",
   "id": "e24d70d5",
   "metadata": {},
   "source": [
    "                 "
   ]
  },
  {
   "cell_type": "code",
   "execution_count": 115,
   "id": "4726d47d",
   "metadata": {},
   "outputs": [
    {
     "data": {
      "text/plain": [
       "{0, 1, 2, 3, 5, 6, 7, 8, 9, 36}"
      ]
     },
     "execution_count": 115,
     "metadata": {},
     "output_type": "execute_result"
    }
   ],
   "source": [
    "s1.intersection()"
   ]
  },
  {
   "cell_type": "code",
   "execution_count": 116,
   "id": "93a7605c",
   "metadata": {},
   "outputs": [],
   "source": [
    "l = [2,5,6,4,5,8,9,4,6,7,7,7,8,9,8,9,8,9,8,98,989,8]"
   ]
  },
  {
   "cell_type": "code",
   "execution_count": 117,
   "id": "4bc6819b",
   "metadata": {},
   "outputs": [],
   "source": [
    "l = list(set(l))"
   ]
  },
  {
   "cell_type": "code",
   "execution_count": 118,
   "id": "a370d7f6",
   "metadata": {},
   "outputs": [
    {
     "data": {
      "text/plain": [
       "[2, 98, 4, 5, 6, 7, 8, 9, 989]"
      ]
     },
     "execution_count": 118,
     "metadata": {},
     "output_type": "execute_result"
    }
   ],
   "source": [
    "l"
   ]
  },
  {
   "cell_type": "markdown",
   "id": "51cf73a2",
   "metadata": {},
   "source": [
    "# Conditions"
   ]
  },
  {
   "cell_type": "markdown",
   "id": "c5c44b05",
   "metadata": {},
   "source": [
    "# If"
   ]
  },
  {
   "cell_type": "code",
   "execution_count": 136,
   "id": "628d550b",
   "metadata": {},
   "outputs": [
    {
     "name": "stdout",
     "output_type": "stream",
     "text": [
      "equal\n"
     ]
    }
   ],
   "source": [
    "a = 10\n",
    "if a == 10:\n",
    "    \n",
    "    print(\"equal\")\n",
    "else:\n",
    "    print(\"not good\")"
   ]
  },
  {
   "cell_type": "code",
   "execution_count": 131,
   "id": "a98fa83b",
   "metadata": {},
   "outputs": [],
   "source": [
    "a = 10\n",
    "if a < 5:\n",
    "    pass"
   ]
  },
  {
   "cell_type": "code",
   "execution_count": 133,
   "id": "154bb999",
   "metadata": {},
   "outputs": [
    {
     "name": "stdout",
     "output_type": "stream",
     "text": [
      "greater then 10\n"
     ]
    }
   ],
   "source": [
    "a = 10\n",
    "if a > 8:\n",
    "    print(\"greater then 10\")"
   ]
  },
  {
   "cell_type": "code",
   "execution_count": 137,
   "id": "c75f779d",
   "metadata": {},
   "outputs": [
    {
     "name": "stdout",
     "output_type": "stream",
     "text": [
      "equal\n"
     ]
    }
   ],
   "source": [
    "a = 15\n",
    "if a < 15:\n",
    "    print(\"greater\")\n",
    "elif a == 16:\n",
    "    print(\"not equal\")\n",
    "elif a == 15:\n",
    "    print(\"equal\")\n",
    "else:\n",
    "    print(\"given a is 15\")"
   ]
  },
  {
   "cell_type": "code",
   "execution_count": 142,
   "id": "a195d55a",
   "metadata": {},
   "outputs": [
    {
     "name": "stdout",
     "output_type": "stream",
     "text": [
      "its ok to buy\n"
     ]
    }
   ],
   "source": [
    "price = 500\n",
    "if price > 500:\n",
    "    print(\"Not able to buy\")\n",
    "elif price < 500:\n",
    "    print(\"lets buy somthing\")\n",
    "elif price == 500:\n",
    "    print(\"its ok to buy\")\n",
    "else:\n",
    "    print(\"keep money with you...... dont waste!!!!!!!\")"
   ]
  },
  {
   "cell_type": "code",
   "execution_count": 143,
   "id": "3948662b",
   "metadata": {},
   "outputs": [
    {
     "data": {
      "text/plain": [
       "True"
      ]
     },
     "execution_count": 143,
     "metadata": {},
     "output_type": "execute_result"
    }
   ],
   "source": [
    "l = [1,2,3,6,5,4,98,7,7]\n",
    "2 in l"
   ]
  },
  {
   "cell_type": "code",
   "execution_count": 145,
   "id": "3528981c",
   "metadata": {},
   "outputs": [
    {
     "name": "stdout",
     "output_type": "stream",
     "text": [
      "not present\n"
     ]
    }
   ],
   "source": [
    "if 60 in l:\n",
    "    print(\"its present\")\n",
    "else :\n",
    "    print(\"not present\")"
   ]
  },
  {
   "cell_type": "code",
   "execution_count": 147,
   "id": "1da09086",
   "metadata": {},
   "outputs": [
    {
     "name": "stdout",
     "output_type": "stream",
     "text": [
      "its presnet\n",
      "yes\n"
     ]
    }
   ],
   "source": [
    "if 1 in l:\n",
    "    print(\"its presnet\")\n",
    "elif 2 in l:\n",
    "    print(\"try to do sub\")\n",
    "elif 3 in l:\n",
    "    print(\"try to do add\")\n",
    "if 6 in l:\n",
    "    print(\"yes\")"
   ]
  },
  {
   "cell_type": "code",
   "execution_count": 148,
   "id": "94681649",
   "metadata": {},
   "outputs": [
    {
     "name": "stdout",
     "output_type": "stream",
     "text": [
      "145789\n"
     ]
    }
   ],
   "source": [
    "b= input()"
   ]
  },
  {
   "cell_type": "code",
   "execution_count": 150,
   "id": "63bbd504",
   "metadata": {},
   "outputs": [
    {
     "name": "stdout",
     "output_type": "stream",
     "text": [
      "400\n"
     ]
    }
   ],
   "source": [
    "b = int(input())"
   ]
  },
  {
   "cell_type": "code",
   "execution_count": 151,
   "id": "c800f9e6",
   "metadata": {},
   "outputs": [
    {
     "name": "stdout",
     "output_type": "stream",
     "text": [
      "sam\n"
     ]
    }
   ],
   "source": [
    "c = str(input())"
   ]
  },
  {
   "cell_type": "code",
   "execution_count": 156,
   "id": "6f15bb7f",
   "metadata": {},
   "outputs": [
    {
     "name": "stdout",
     "output_type": "stream",
     "text": [
      "4\n"
     ]
    }
   ],
   "source": [
    "d = bin(int(input()))"
   ]
  },
  {
   "cell_type": "code",
   "execution_count": 157,
   "id": "5afe5ab1",
   "metadata": {},
   "outputs": [
    {
     "data": {
      "text/plain": [
       "str"
      ]
     },
     "execution_count": 157,
     "metadata": {},
     "output_type": "execute_result"
    }
   ],
   "source": [
    "type(d)"
   ]
  },
  {
   "cell_type": "code",
   "execution_count": 158,
   "id": "b74f20b2",
   "metadata": {},
   "outputs": [
    {
     "name": "stdout",
     "output_type": "stream",
     "text": [
      "450\n",
      "Buy somthing\n"
     ]
    }
   ],
   "source": [
    "c = int(input())\n",
    "if c <500:\n",
    "    print(\"Buy somthing\")\n",
    "elif c < 1000:\n",
    "    print(\"buy more\")\n",
    "elif c < 500 or c> 1000:\n",
    "    print(\"do some shopping\")\n",
    "else:\n",
    "    print(\"do investment\")"
   ]
  },
  {
   "cell_type": "code",
   "execution_count": null,
   "id": "a0aea2b9",
   "metadata": {},
   "outputs": [],
   "source": [
    "c = int(input())\n",
    "if c >5000:\n",
    "    print(\"Buy somthing\")\n",
    "    if c < 1000:\n",
    "        print(\"buy more\")\n",
    "    elif c < 1000 or c> 10000:\n",
    "        print(\"do some shopping\")\n",
    "else:\n",
    "    print(\"do investment\")"
   ]
  },
  {
   "cell_type": "code",
   "execution_count": null,
   "id": "e45cdd9c",
   "metadata": {},
   "outputs": [],
   "source": [
    "marks = int(input(\"Enter the marks\"))\n",
    "if marks < 600:\n",
    "    print(\"No GRE\")\n",
    "    if marks < 500:\n",
    "        print(\"Tofel\")\n",
    "        if marks < 400:\n",
    "            print(\"Try somthin else\")\n",
    "    else:\n",
    "        print(\"you got tofel\")\n",
    "else:\n",
    "    print(\"youn cleared GRE\")"
   ]
  },
  {
   "cell_type": "code",
   "execution_count": null,
   "id": "2956ce55",
   "metadata": {},
   "outputs": [],
   "source": [
    "d"
   ]
  },
  {
   "cell_type": "code",
   "execution_count": null,
   "id": "bee7c428",
   "metadata": {},
   "outputs": [],
   "source": []
  }
 ],
 "metadata": {
  "kernelspec": {
   "display_name": "Python 3 (ipykernel)",
   "language": "python",
   "name": "python3"
  },
  "language_info": {
   "codemirror_mode": {
    "name": "ipython",
    "version": 3
   },
   "file_extension": ".py",
   "mimetype": "text/x-python",
   "name": "python",
   "nbconvert_exporter": "python",
   "pygments_lexer": "ipython3",
   "version": "3.8.10"
  }
 },
 "nbformat": 4,
 "nbformat_minor": 5
}
