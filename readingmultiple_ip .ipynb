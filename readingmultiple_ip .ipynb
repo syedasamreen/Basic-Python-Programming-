{
 "cells": [
  {
   "cell_type": "code",
   "execution_count": null,
   "id": "40918cb3",
   "metadata": {},
   "outputs": [],
   "source": [
    "import os\n",
    "\n",
    "def server_cred():\n",
    "    with open(\"/home/syedasamreen/ipa.txt\",'r') as f:\n",
    "        f1= f.readlines()\n",
    "        usr = f1[0]\n",
    "        pwd = f1[0]\n",
    "        return usr, pwd\n",
    "for i in f1[1:]:\n",
    "    host = i\n",
    "    comm = \"ipmitool -I lanplus -H \"+host+\" -U \"+usr+\" -P \"+pwd+\" dcmi power reading\"\n",
    "    print(comm)\n",
    "       "
   ]
  },
  {
   "cell_type": "code",
   "execution_count": 27,
   "id": "a1a2382c",
   "metadata": {},
   "outputs": [
    {
     "name": "stdout",
     "output_type": "stream",
     "text": [
      "ADMIN\n",
      " ADMIN\n",
      " (0, '10.101.1.31\\n')\n",
      "ADMIN\n",
      " ADMIN\n",
      " (1, '10.101.1.32\\n')\n",
      "ADMIN\n",
      " ADMIN\n",
      " (2, '10.101.1.52\\n')\n",
      "ADMIN\n",
      " ADMIN\n",
      " (3, '10.101.1.61\\n')\n",
      "ADMIN\n",
      " ADMIN\n",
      " (4, '10.101.1.62\\n')\n",
      "ADMIN\n",
      " ADMIN\n",
      " (5, '10.101.1.71\\n')\n",
      "ADMIN\n",
      " ADMIN\n",
      " (6, '10.101.1.72\\n')\n",
      "ADMIN\n",
      " ADMIN\n",
      " (7, '10.101.1.81\\n')\n",
      "ADMIN\n",
      " ADMIN\n",
      " (8, '10.101.1.82\\n')\n",
      "ADMIN\n",
      " ADMIN\n",
      " (9, '10.101.1.83\\n')\n",
      "ADMIN\n",
      " ADMIN\n",
      " (10, '10.101.1.84\\n')\n",
      "ADMIN\n",
      " ADMIN\n",
      " (11, '10.101.1.101\\n')\n",
      "ADMIN\n",
      " ADMIN\n",
      " (12, '10.101.1.111\\n')\n"
     ]
    }
   ],
   "source": [
    "for host in enumerate(f1[1:]):\n",
    "    print(usr,pwd,host)"
   ]
  },
  {
   "cell_type": "code",
   "execution_count": null,
   "id": "b0c8a8c6",
   "metadata": {},
   "outputs": [],
   "source": []
  }
 ],
 "metadata": {
  "kernelspec": {
   "display_name": "Python 3 (ipykernel)",
   "language": "python",
   "name": "python3"
  },
  "language_info": {
   "codemirror_mode": {
    "name": "ipython",
    "version": 3
   },
   "file_extension": ".py",
   "mimetype": "text/x-python",
   "name": "python",
   "nbconvert_exporter": "python",
   "pygments_lexer": "ipython3",
   "version": "3.8.10"
  }
 },
 "nbformat": 4,
 "nbformat_minor": 5
}
