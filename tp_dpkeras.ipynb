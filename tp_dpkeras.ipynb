{
 "cells": [
  {
   "cell_type": "code",
   "execution_count": 3,
   "id": "8af0405e",
   "metadata": {},
   "outputs": [],
   "source": [
    "from keras.models import Sequential\n",
    "from keras.layers import Dense, Activation"
   ]
  },
  {
   "cell_type": "markdown",
   "id": "2c4f83a2",
   "metadata": {},
   "source": [
    "1. Sequential model"
   ]
  },
  {
   "cell_type": "code",
   "execution_count": 6,
   "id": "54e06447",
   "metadata": {},
   "outputs": [],
   "source": [
    "model = Sequential()\n",
    "model.add(Dense(512, activation ='relu',input_shape= (784,)))"
   ]
  },
  {
   "cell_type": "markdown",
   "id": "b53678fa",
   "metadata": {},
   "source": [
    "dropout layer"
   ]
  },
  {
   "cell_type": "code",
   "execution_count": 11,
   "id": "e8cfb7c5",
   "metadata": {},
   "outputs": [],
   "source": [
    "from keras.models import Sequential \n",
    "from keras.layers import Dense, Activation, Dropout #model = Sequential() \n",
    "model.add(Dense(512, activation = 'relu', input_shape = (784,))) \n",
    "model.add(Dropout(0.2)) \n",
    "## or\n",
    "model.add(Dense(512, activation = 'relu'))\n",
    "model.add(Dropout(0.2)) \n",
    "model.add(Dense(512, activation = 'softmax'))"
   ]
  },
  {
   "cell_type": "markdown",
   "id": "8287260f",
   "metadata": {},
   "source": [
    "Backend module"
   ]
  },
  {
   "cell_type": "code",
   "execution_count": 15,
   "id": "2165cf5c",
   "metadata": {},
   "outputs": [
    {
     "name": "stdout",
     "output_type": "stream",
     "text": [
      "tensorflow\n",
      "1e-07\n",
      "channels_last\n",
      "float32\n"
     ]
    }
   ],
   "source": [
    "from keras import backend as k\n",
    "print(k.backend())\n",
    "print(k.epsilon())\n",
    "print(k.image_data_format())\n",
    "print(k.floatx())"
   ]
  },
  {
   "cell_type": "code",
   "execution_count": 16,
   "id": "68ab3d80",
   "metadata": {},
   "outputs": [
    {
     "name": "stdout",
     "output_type": "stream",
     "text": [
      "1\n",
      "None\n",
      "1\n"
     ]
    },
    {
     "data": {
      "text/plain": [
       "<KerasTensor: shape=(1, 3, 3) dtype=float32 (created by layer 'input_1')>"
      ]
     },
     "execution_count": 16,
     "metadata": {},
     "output_type": "execute_result"
    }
   ],
   "source": [
    "print(k.get_uid(prefix=''))\n",
    "print(k.reset_uids())\n",
    "print(k.get_uid(prefix=''))\n",
    "\n",
    "data = k.placeholder(shape = (1,3,3))\n",
    "data"
   ]
  },
  {
   "cell_type": "code",
   "execution_count": 18,
   "id": "624bc67f",
   "metadata": {},
   "outputs": [
    {
     "data": {
      "text/plain": [
       "<KerasTensor: shape=(4, 3) dtype=float32 (created by layer 'tf.linalg.matmul_1')>"
      ]
     },
     "execution_count": 18,
     "metadata": {},
     "output_type": "execute_result"
    }
   ],
   "source": [
    "#dot\n",
    "a = k.placeholder(shape = (4,2))\n",
    "b = k.placeholder(shape = (2,3)) \n",
    "c = k.dot(a,b) \n",
    "c"
   ]
  },
  {
   "cell_type": "code",
   "execution_count": 19,
   "id": "39ce9b1d",
   "metadata": {},
   "outputs": [
    {
     "data": {
      "text/plain": [
       "array([[1., 1.],\n",
       "       [1., 1.]], dtype=float32)"
      ]
     },
     "execution_count": 19,
     "metadata": {},
     "output_type": "execute_result"
    }
   ],
   "source": [
    "res = k.ones(shape = (2,2))\n",
    "k.eval(res) "
   ]
  },
  {
   "cell_type": "code",
   "execution_count": 21,
   "id": "e77ec01a",
   "metadata": {},
   "outputs": [
    {
     "data": {
      "text/plain": [
       "<tf.Tensor: shape=(2, 1), dtype=float32, numpy=\n",
       "array([[3.],\n",
       "       [3.]], dtype=float32)>"
      ]
     },
     "execution_count": 21,
     "metadata": {},
     "output_type": "execute_result"
    }
   ],
   "source": [
    "a_batch = k.ones(shape = (2,3)) \n",
    "b_batch = k.ones(shape = (2,3))\n",
    "c_batch = k.batch_dot(a_batch,b_batch);c_batch "
   ]
  },
  {
   "cell_type": "code",
   "execution_count": 22,
   "id": "7e2c2d90",
   "metadata": {},
   "outputs": [
    {
     "data": {
      "text/plain": [
       "<tf.Tensor: shape=(4, 2), dtype=float32, numpy=\n",
       "array([[10., 50.],\n",
       "       [20., 60.],\n",
       "       [30., 70.],\n",
       "       [40., 80.]], dtype=float32)>"
      ]
     },
     "execution_count": 22,
     "metadata": {},
     "output_type": "execute_result"
    }
   ],
   "source": [
    "data = k.variable([[10,20,30,40],[50,60,70,80]])\n",
    "result = k.transpose(data);result"
   ]
  },
  {
   "cell_type": "code",
   "execution_count": 23,
   "id": "e4a9420e",
   "metadata": {},
   "outputs": [
    {
     "name": "stdout",
     "output_type": "stream",
     "text": [
      "[[10. 50.]\n",
      " [20. 60.]\n",
      " [30. 70.]\n",
      " [40. 80.]]\n"
     ]
    }
   ],
   "source": [
    "print(k.eval(result))"
   ]
  },
  {
   "cell_type": "code",
   "execution_count": 25,
   "id": "37c3b8a2",
   "metadata": {},
   "outputs": [
    {
     "name": "stdout",
     "output_type": "stream",
     "text": [
      "[[10 50]\n",
      " [20 60]\n",
      " [30 70]\n",
      " [40 80]]\n",
      "<tf.Variable 'Variable:0' shape=(2, 4) dtype=float32, numpy=\n",
      "array([[10., 20., 30., 40.],\n",
      "       [50., 60., 70., 80.]], dtype=float32)>\n"
     ]
    }
   ],
   "source": [
    "import numpy as np\n",
    "data = np.array([[10,20,30,40],[50,60,70,80]]) \n",
    "print(np.transpose(data))\n",
    "res = k.variable(value = data);print(res)"
   ]
  },
  {
   "cell_type": "code",
   "execution_count": 27,
   "id": "936690f9",
   "metadata": {},
   "outputs": [
    {
     "name": "stdout",
     "output_type": "stream",
     "text": [
      "KerasTensor(type_spec=SparseTensorSpec(TensorShape([2, 2]), tf.float32), description=\"created by layer 'input_7'\")\n"
     ]
    }
   ],
   "source": [
    "a = k.placeholder((2, 2), sparse=True);print(a)\n",
    "a = k.placeholder((2, 2), sparse=True)"
   ]
  },
  {
   "cell_type": "code",
   "execution_count": 29,
   "id": "abc594fa",
   "metadata": {},
   "outputs": [
    {
     "name": "stdout",
     "output_type": "stream",
     "text": [
      "KerasTensor(type_spec=TensorSpec(shape=(None, None), dtype=tf.float32, name=None), name='tf.keras.backend.to_dense_1/SparseToDense:0', description=\"created by layer 'tf.keras.backend.to_dense_1'\")\n",
      "False\n"
     ]
    }
   ],
   "source": [
    "b = k.to_dense(a);print(b) \n",
    "print(k.is_sparse(b))"
   ]
  },
  {
   "cell_type": "markdown",
   "id": "bf144de9",
   "metadata": {},
   "source": [
    "uniform distribution"
   ]
  },
  {
   "cell_type": "code",
   "execution_count": 30,
   "id": "db537cc9",
   "metadata": {},
   "outputs": [
    {
     "data": {
      "text/plain": [
       "(2, 2)"
      ]
     },
     "execution_count": 30,
     "metadata": {},
     "output_type": "execute_result"
    }
   ],
   "source": [
    "a = k.random_uniform_variable(shape = (2, 3), low=0, high = 1)\n",
    "b = k. random_uniform_variable(shape = (3,2), low = 0, high = 1)\n",
    "c = k.dot(a, b)\n",
    "k.int_shape(c)"
   ]
  },
  {
   "cell_type": "code",
   "execution_count": 48,
   "id": "d9a9615d",
   "metadata": {},
   "outputs": [
    {
     "data": {
      "text/plain": [
       "['AUCCurve',\n",
       " 'AUCSummationMethod',\n",
       " 'ConfusionMatrix',\n",
       " 'Enum',\n",
       " 'NEG_INF',\n",
       " 'Reduction',\n",
       " '__builtins__',\n",
       " '__cached__',\n",
       " '__doc__',\n",
       " '__file__',\n",
       " '__loader__',\n",
       " '__name__',\n",
       " '__package__',\n",
       " '__spec__',\n",
       " '_assert_splits_match',\n",
       " '_filter_top_k',\n",
       " '_update_confusion_matrix_variables_optimized',\n",
       " 'assert_thresholds_range',\n",
       " 'backend',\n",
       " 'functools',\n",
       " 'is_evenly_distributed_thresholds',\n",
       " 'losses_utils',\n",
       " 'np',\n",
       " 'parse_init_thresholds',\n",
       " 'ragged_assert_compatible_and_get_flat_values',\n",
       " 'result_wrapper',\n",
       " 'tf',\n",
       " 'tf_utils',\n",
       " 'to_list',\n",
       " 'update_confusion_matrix_variables',\n",
       " 'update_state_wrapper',\n",
       " 'weakmethod',\n",
       " 'weakref']"
      ]
     },
     "execution_count": 48,
     "metadata": {},
     "output_type": "execute_result"
    }
   ],
   "source": [
    "from keras.utils import metrics_utils\n",
    "dir(metrics_utils)\n",
    "# data = metrics_utils('data.hdf5', 'data');data"
   ]
  },
  {
   "cell_type": "code",
   "execution_count": 44,
   "id": "0cfa053b",
   "metadata": {},
   "outputs": [
    {
     "data": {
      "text/plain": [
       "['__builtins__',\n",
       " '__cached__',\n",
       " '__doc__',\n",
       " '__file__',\n",
       " '__loader__',\n",
       " '__name__',\n",
       " '__package__',\n",
       " '__path__',\n",
       " '__spec__',\n",
       " 'all_utils',\n",
       " 'control_flow_util',\n",
       " 'conv_utils',\n",
       " 'data_utils',\n",
       " 'dataset_creator',\n",
       " 'generic_utils',\n",
       " 'io_utils',\n",
       " 'layer_utils',\n",
       " 'losses_utils',\n",
       " 'metrics_utils',\n",
       " 'mode_keys',\n",
       " 'multi_gpu_utils',\n",
       " 'np_utils',\n",
       " 'object_identity',\n",
       " 'tf_contextlib',\n",
       " 'tf_inspect',\n",
       " 'tf_utils',\n",
       " 'version_utils',\n",
       " 'vis_utils']"
      ]
     },
     "execution_count": 44,
     "metadata": {},
     "output_type": "execute_result"
    }
   ],
   "source": [
    "import keras.utils \n",
    "dir(keras.utils)"
   ]
  },
  {
   "cell_type": "code",
   "execution_count": 51,
   "id": "dc6c2bb9",
   "metadata": {},
   "outputs": [
    {
     "ename": "ImportError",
     "evalue": "cannot import name 'print_summary' from 'keras.utils' (/home/syedasamreen/.local/lib/python3.8/site-packages/keras/utils/__init__.py)",
     "output_type": "error",
     "traceback": [
      "\u001b[0;31m---------------------------------------------------------------------------\u001b[0m",
      "\u001b[0;31mImportError\u001b[0m                               Traceback (most recent call last)",
      "\u001b[0;32m/tmp/ipykernel_34689/2244706688.py\u001b[0m in \u001b[0;36m<module>\u001b[0;34m\u001b[0m\n\u001b[0;32m----> 1\u001b[0;31m \u001b[0;32mfrom\u001b[0m \u001b[0mkeras\u001b[0m\u001b[0;34m.\u001b[0m\u001b[0mutils\u001b[0m \u001b[0;32mimport\u001b[0m \u001b[0mprint_summary\u001b[0m\u001b[0;34m\u001b[0m\u001b[0;34m\u001b[0m\u001b[0m\n\u001b[0m\u001b[1;32m      2\u001b[0m \u001b[0mprint_summary\u001b[0m\u001b[0;34m(\u001b[0m\u001b[0mmodel\u001b[0m\u001b[0;34m)\u001b[0m\u001b[0;34m\u001b[0m\u001b[0;34m\u001b[0m\u001b[0m\n",
      "\u001b[0;31mImportError\u001b[0m: cannot import name 'print_summary' from 'keras.utils' (/home/syedasamreen/.local/lib/python3.8/site-packages/keras/utils/__init__.py)"
     ]
    }
   ],
   "source": [
    "from keras.utils import print_summary \n",
    "print_summary(model)"
   ]
  },
  {
   "cell_type": "code",
   "execution_count": 50,
   "id": "555c2715",
   "metadata": {},
   "outputs": [
    {
     "ename": "ImportError",
     "evalue": "cannot import name 'plot_model' from 'keras.utils' (/home/syedasamreen/.local/lib/python3.8/site-packages/keras/utils/__init__.py)",
     "output_type": "error",
     "traceback": [
      "\u001b[0;31m---------------------------------------------------------------------------\u001b[0m",
      "\u001b[0;31mImportError\u001b[0m                               Traceback (most recent call last)",
      "\u001b[0;32m/tmp/ipykernel_34689/3999514330.py\u001b[0m in \u001b[0;36m<module>\u001b[0;34m\u001b[0m\n\u001b[0;32m----> 1\u001b[0;31m \u001b[0;32mfrom\u001b[0m \u001b[0mkeras\u001b[0m\u001b[0;34m.\u001b[0m\u001b[0mutils\u001b[0m \u001b[0;32mimport\u001b[0m \u001b[0mplot_model\u001b[0m\u001b[0;34m\u001b[0m\u001b[0;34m\u001b[0m\u001b[0m\n\u001b[0m\u001b[1;32m      2\u001b[0m \u001b[0mplot_model\u001b[0m\u001b[0;34m(\u001b[0m\u001b[0mmodel\u001b[0m\u001b[0;34m,\u001b[0m\u001b[0mto_file\u001b[0m \u001b[0;34m=\u001b[0m \u001b[0;34m'image.png'\u001b[0m\u001b[0;34m)\u001b[0m\u001b[0;34m\u001b[0m\u001b[0;34m\u001b[0m\u001b[0m\n",
      "\u001b[0;31mImportError\u001b[0m: cannot import name 'plot_model' from 'keras.utils' (/home/syedasamreen/.local/lib/python3.8/site-packages/keras/utils/__init__.py)"
     ]
    }
   ],
   "source": [
    "from keras.utils import plot_model \n",
    "plot_model(model,to_file = 'image.png')"
   ]
  },
  {
   "cell_type": "code",
   "execution_count": null,
   "id": "69a86949",
   "metadata": {},
   "outputs": [],
   "source": [
    "from keras.models import Sequential \n",
    "from keras.layers import Activation, Dense \n",
    "from keras import initializers \n",
    "from keras import regularizers \n",
    "from keras import constraints \n",
    "\n",
    "model = Sequential() \n",
    "\n",
    "model.add(Dense(32, input_shape=(16,), kernel_initializer = 'he_uniform', kernel_regularizer = None, kernel_constraint = 'MaxNorm', activation = 'relu')) \n",
    "model.add(Dense(16, activation = 'relu')) \n",
    "model.add(Dense(8))"
   ]
  },
  {
   "cell_type": "code",
   "execution_count": 88,
   "id": "e9a3428b",
   "metadata": {},
   "outputs": [
    {
     "name": "stdout",
     "output_type": "stream",
     "text": [
      "10.1.0.29\n",
      "\n",
      "ipmitool -I lanplus -H 10.1.0.29\n",
      " -U 'root'\n",
      " -P 'IDRAC@v!gy@nlabs'\n",
      " chassis status\n",
      "Password: Error: Unable to establish IPMI v2 / RMCP+ session\n",
      "/bin/sh: 2: -U: not found\n",
      "/bin/sh: 3: -P: not found\n",
      "/bin/sh: 4: chassis: not found\n"
     ]
    }
   ],
   "source": [
    "import subprocess\n",
    "file='/home/syedasamreen/ipcred.txt'\n",
    "with open(file,'r') as f:\n",
    "    creds = f.readlines()\n",
    "    f.close()\n",
    "ip1 = creds[0];print(ip1)\n",
    "usr1 = creds[1]\n",
    "pwd1 = creds[2]\n",
    "command1 = 'ipmitool -I lanplus -H '+ip1+' -U '+usr1+' -P '+pwd1+' chassis status'\n",
    "print(command1)\n",
    "chasie_output = subprocess.getoutput(command1) \n",
    "print(chasie_output)"
   ]
  },
  {
   "cell_type": "code",
   "execution_count": null,
   "id": "4c8152b4",
   "metadata": {},
   "outputs": [],
   "source": []
  },
  {
   "cell_type": "code",
   "execution_count": null,
   "id": "0f40a79f",
   "metadata": {},
   "outputs": [],
   "source": []
  }
 ],
 "metadata": {
  "kernelspec": {
   "display_name": "Python 3 (ipykernel)",
   "language": "python",
   "name": "python3"
  },
  "language_info": {
   "codemirror_mode": {
    "name": "ipython",
    "version": 3
   },
   "file_extension": ".py",
   "mimetype": "text/x-python",
   "name": "python",
   "nbconvert_exporter": "python",
   "pygments_lexer": "ipython3",
   "version": "3.8.10"
  }
 },
 "nbformat": 4,
 "nbformat_minor": 5
}
