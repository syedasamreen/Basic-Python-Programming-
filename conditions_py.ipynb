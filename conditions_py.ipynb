{
 "cells": [
  {
   "cell_type": "code",
   "execution_count": 1,
   "id": "b195e9cf",
   "metadata": {},
   "outputs": [],
   "source": [
    "##IF statment"
   ]
  },
  {
   "cell_type": "code",
   "execution_count": 2,
   "id": "39336803",
   "metadata": {},
   "outputs": [
    {
     "name": "stdout",
     "output_type": "stream",
     "text": [
      "Enter floating number2.5\n",
      "Enter value is positive number\n"
     ]
    }
   ],
   "source": [
    "val = float(input(\"Enter floating number\"))\n",
    "if val >=0:\n",
    "    if val == 0:\n",
    "        print(\"entered value is zero\")\n",
    "    else:\n",
    "        print(\"Enter value is positive number\")\n",
    "else:\n",
    "    print(\"Enter number is negative number\")"
   ]
  },
  {
   "cell_type": "code",
   "execution_count": 7,
   "id": "9aa0a894",
   "metadata": {},
   "outputs": [
    {
     "name": "stdout",
     "output_type": "stream",
     "text": [
      "do somthing\n"
     ]
    }
   ],
   "source": [
    "a = 20\n",
    "if a<20 or a==20:\n",
    "    print(\"do somthing\")"
   ]
  },
  {
   "cell_type": "code",
   "execution_count": 8,
   "id": "5f76040a",
   "metadata": {},
   "outputs": [],
   "source": [
    "a = 20\n",
    "if a<20 or a>20:\n",
    "    print(\"do somthing\")"
   ]
  },
  {
   "cell_type": "code",
   "execution_count": 9,
   "id": "edbf2b48",
   "metadata": {},
   "outputs": [
    {
     "name": "stdout",
     "output_type": "stream",
     "text": [
      "do somthing\n"
     ]
    }
   ],
   "source": [
    "a = 20\n",
    "if a>20 or a==20:\n",
    "    print(\"do somthing\")"
   ]
  },
  {
   "cell_type": "code",
   "execution_count": 10,
   "id": "fd60755c",
   "metadata": {},
   "outputs": [],
   "source": [
    "a = 20\n",
    "if a<20 and a==20:\n",
    "    print(\"do somthing\")"
   ]
  },
  {
   "cell_type": "code",
   "execution_count": 11,
   "id": "d5d12d48",
   "metadata": {},
   "outputs": [],
   "source": [
    "a = 20\n",
    "if a<20 and a>20:\n",
    "    print(\"do somthing\")"
   ]
  },
  {
   "cell_type": "code",
   "execution_count": 12,
   "id": "ac0c1ad6",
   "metadata": {},
   "outputs": [
    {
     "name": "stdout",
     "output_type": "stream",
     "text": [
      "do somthing\n"
     ]
    }
   ],
   "source": [
    "a = 20\n",
    "if a>20 or a==20:\n",
    "    print(\"do somthing\")"
   ]
  },
  {
   "cell_type": "code",
   "execution_count": 14,
   "id": "02e1ad17",
   "metadata": {},
   "outputs": [
    {
     "name": "stdout",
     "output_type": "stream",
     "text": [
      "which is true\n"
     ]
    }
   ],
   "source": [
    "a = 10;b = 11;c = 12;d = 13\n",
    "if a == 9  and b ==11 or c == 12 or d == 13:\n",
    "    print(\"which is true\")"
   ]
  },
  {
   "cell_type": "code",
   "execution_count": 17,
   "id": "abf3428e",
   "metadata": {},
   "outputs": [
    {
     "name": "stdout",
     "output_type": "stream",
     "text": [
      "all not verified\n"
     ]
    }
   ],
   "source": [
    "d = {1:\"one\",2:\"two\",3:\"three\"}\n",
    "if d[1] == \"one\" and d[2] == \"Two\" and d[3] == \"three\":\n",
    "    print(\"all th value are varified\")\n",
    "    print(d.values())\n",
    "else:\n",
    "    print(\"all not verified\")"
   ]
  },
  {
   "cell_type": "code",
   "execution_count": null,
   "id": "b29d6d5d",
   "metadata": {},
   "outputs": [],
   "source": []
  }
 ],
 "metadata": {
  "kernelspec": {
   "display_name": "Python 3 (ipykernel)",
   "language": "python",
   "name": "python3"
  },
  "language_info": {
   "codemirror_mode": {
    "name": "ipython",
    "version": 3
   },
   "file_extension": ".py",
   "mimetype": "text/x-python",
   "name": "python",
   "nbconvert_exporter": "python",
   "pygments_lexer": "ipython3",
   "version": "3.9.7"
  }
 },
 "nbformat": 4,
 "nbformat_minor": 5
}
